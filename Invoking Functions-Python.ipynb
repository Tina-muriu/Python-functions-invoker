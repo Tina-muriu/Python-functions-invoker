{
 "cells": [
  {
   "cell_type": "code",
   "execution_count": 10,
   "id": "531ee0d6",
   "metadata": {},
   "outputs": [
    {
     "name": "stdout",
     "output_type": "stream",
     "text": [
      "Hello, my name is Harry\n",
      "I live and work in Boston\n"
     ]
    }
   ],
   "source": [
    "def my_introduction():\n",
    "    print(\"Hello, my name is Harry\")\n",
    "    print(\"I live and work in Boston\")\n",
    "my_introduction()"
   ]
  },
  {
   "cell_type": "code",
   "execution_count": 11,
   "id": "7c0b35fe",
   "metadata": {},
   "outputs": [
    {
     "name": "stdout",
     "output_type": "stream",
     "text": [
      "Hello, my name is Muriu\n",
      "I live and work in Boston\n"
     ]
    }
   ],
   "source": [
    "def introduction(name):\n",
    "    print(\"Hello, my name is\", name)\n",
    "    print(\"I live and work in Boston\")\n",
    "introduction(\"Muriu\")"
   ]
  },
  {
   "cell_type": "code",
   "execution_count": 12,
   "id": "ad0e1994",
   "metadata": {},
   "outputs": [
    {
     "name": "stdout",
     "output_type": "stream",
     "text": [
      "Hello, my name is Mali Safi\n",
      "I live and work in Chito\n"
     ]
    }
   ],
   "source": [
    "def general_introduction(name,city):\n",
    "    print(\"Hello, my name is\", name)\n",
    "    print(\"I live and work in\", city)\n",
    "general_introduction('Mali Safi','Chito')"
   ]
  },
  {
   "cell_type": "code",
   "execution_count": 18,
   "id": "f5b8d8c1",
   "metadata": {},
   "outputs": [
    {
     "ename": "TypeError",
     "evalue": "introduction() takes 1 positional argument but 2 were given",
     "output_type": "error",
     "traceback": [
      "\u001b[1;31m---------------------------------------------------------------------------\u001b[0m",
      "\u001b[1;31mTypeError\u001b[0m                                 Traceback (most recent call last)",
      "Cell \u001b[1;32mIn[18], line 1\u001b[0m\n\u001b[1;32m----> 1\u001b[0m \u001b[43mintroduction\u001b[49m\u001b[43m(\u001b[49m\u001b[38;5;124;43m\"\u001b[39;49m\u001b[38;5;124;43mlily\u001b[39;49m\u001b[38;5;124;43m\"\u001b[39;49m\u001b[43m,\u001b[49m\u001b[38;5;124;43m\"\u001b[39;49m\u001b[38;5;124;43msanfransisco\u001b[39;49m\u001b[38;5;124;43m\"\u001b[39;49m\u001b[43m)\u001b[49m\n",
      "\u001b[1;31mTypeError\u001b[0m: introduction() takes 1 positional argument but 2 were given"
     ]
    }
   ],
   "source": [
    "introduction(\"lily\",\"sanfransisco\")"
   ]
  },
  {
   "cell_type": "code",
   "execution_count": 22,
   "id": "7506964a",
   "metadata": {},
   "outputs": [],
   "source": [
    "def square(x):\n",
    "    print('the square of', x, 'is',x*x)"
   ]
  },
  {
   "cell_type": "code",
   "execution_count": 23,
   "id": "8d724cae",
   "metadata": {},
   "outputs": [
    {
     "name": "stdout",
     "output_type": "stream",
     "text": [
      "the square of 3 is 9\n"
     ]
    }
   ],
   "source": [
    "square(3) "
   ]
  },
  {
   "cell_type": "code",
   "execution_count": 25,
   "id": "b7662661",
   "metadata": {},
   "outputs": [
    {
     "name": "stdout",
     "output_type": "stream",
     "text": [
      "the square of 1001 is 1002001\n"
     ]
    }
   ],
   "source": [
    "square(1001)"
   ]
  },
  {
   "cell_type": "code",
   "execution_count": 26,
   "id": "22578f2c",
   "metadata": {},
   "outputs": [
    {
     "ename": "TypeError",
     "evalue": "can't multiply sequence by non-int of type 'str'",
     "output_type": "error",
     "traceback": [
      "\u001b[1;31m---------------------------------------------------------------------------\u001b[0m",
      "\u001b[1;31mTypeError\u001b[0m                                 Traceback (most recent call last)",
      "Cell \u001b[1;32mIn[26], line 1\u001b[0m\n\u001b[1;32m----> 1\u001b[0m \u001b[43msquare\u001b[49m\u001b[43m(\u001b[49m\u001b[38;5;124;43m\"\u001b[39;49m\u001b[38;5;124;43mJames\u001b[39;49m\u001b[38;5;124;43m\"\u001b[39;49m\u001b[43m)\u001b[49m\n",
      "Cell \u001b[1;32mIn[22], line 2\u001b[0m, in \u001b[0;36msquare\u001b[1;34m(x)\u001b[0m\n\u001b[0;32m      1\u001b[0m \u001b[38;5;28;01mdef\u001b[39;00m \u001b[38;5;21msquare\u001b[39m(x):\n\u001b[1;32m----> 2\u001b[0m     \u001b[38;5;28mprint\u001b[39m(\u001b[38;5;124m'\u001b[39m\u001b[38;5;124mthe square of\u001b[39m\u001b[38;5;124m'\u001b[39m, x, \u001b[38;5;124m'\u001b[39m\u001b[38;5;124mis\u001b[39m\u001b[38;5;124m'\u001b[39m,\u001b[43mx\u001b[49m\u001b[38;5;241;43m*\u001b[39;49m\u001b[43mx\u001b[49m)\n",
      "\u001b[1;31mTypeError\u001b[0m: can't multiply sequence by non-int of type 'str'"
     ]
    }
   ],
   "source": [
    "square(\"James\")"
   ]
  },
  {
   "cell_type": "code",
   "execution_count": 27,
   "id": "051db699",
   "metadata": {},
   "outputs": [
    {
     "name": "stdout",
     "output_type": "stream",
     "text": [
      "the square of 25 is 625\n"
     ]
    }
   ],
   "source": [
    "num=25\n",
    "square(num)"
   ]
  },
  {
   "cell_type": "code",
   "execution_count": 28,
   "id": "4700fbf1",
   "metadata": {},
   "outputs": [
    {
     "name": "stdout",
     "output_type": "stream",
     "text": [
      "the square of 25 is 625\n",
      "the square of 16 is 256\n"
     ]
    }
   ],
   "source": [
    "another_num=16\n",
    "square(num)\n",
    "square(another_num)"
   ]
  },
  {
   "cell_type": "code",
   "execution_count": 35,
   "id": "cf6a00d1",
   "metadata": {},
   "outputs": [
    {
     "name": "stdout",
     "output_type": "stream",
     "text": [
      "my total savings: 700\n"
     ]
    }
   ],
   "source": [
    "salary=1000\n",
    "expense=300\n",
    "def my_savings(a,b):\n",
    "    print(\"my total savings:\", salary-expense)\n",
    "my_savings(10000,2456)"
   ]
  },
  {
   "cell_type": "code",
   "execution_count": 40,
   "id": "9e60b657",
   "metadata": {},
   "outputs": [
    {
     "name": "stdout",
     "output_type": "stream",
     "text": [
      "my actual savings: 9988\n"
     ]
    }
   ],
   "source": [
    "def my_actual_savings(a,b):\n",
    "    print(\"my actual savings:\",a-b)\n",
    "my_actual_savings(10000,12)"
   ]
  },
  {
   "cell_type": "code",
   "execution_count": 48,
   "id": "1039d5f1",
   "metadata": {},
   "outputs": [
    {
     "name": "stdout",
     "output_type": "stream",
     "text": [
      "my savings are: 1935 Ksh\n"
     ]
    }
   ],
   "source": [
    "salary=2000\n",
    "expense=289\n",
    "def calculate_savings(salary,expense):\n",
    "    print(\"my savings are:\" ,salary-expense,\"Ksh\")\n",
    "calculate_savings(2000,65)"
   ]
  },
  {
   "cell_type": "code",
   "execution_count": 49,
   "id": "e47d7c13",
   "metadata": {},
   "outputs": [
    {
     "name": "stdout",
     "output_type": "stream",
     "text": [
      "my savings are: 1711 Ksh\n"
     ]
    }
   ],
   "source": [
    "calculate_savings(salary,expense)"
   ]
  },
  {
   "cell_type": "code",
   "execution_count": 54,
   "id": "03f23532",
   "metadata": {},
   "outputs": [
    {
     "name": "stdout",
     "output_type": "stream",
     "text": [
      "my savings are: 55000 Ksh\n"
     ]
    }
   ],
   "source": [
    "total_salary=89000\n",
    "total_expense=34000\n",
    "calculate_savings(total_salary,total_expense)"
   ]
  },
  {
   "cell_type": "code",
   "execution_count": 58,
   "id": "97f3320c",
   "metadata": {},
   "outputs": [
    {
     "name": "stdout",
     "output_type": "stream",
     "text": [
      "skillsoft\n",
      "skillsoft\n",
      "skillsoft\n",
      "skillsoft\n",
      "skillsoft\n"
     ]
    }
   ],
   "source": [
    "def print_many_times(string,times):\n",
    "    for i in range(times):\n",
    "        print (string)\n",
    "print_many_times(\"skillsoft\",5)"
   ]
  },
  {
   "cell_type": "code",
   "execution_count": 59,
   "id": "a5da3c05",
   "metadata": {},
   "outputs": [
    {
     "ename": "TypeError",
     "evalue": "'str' object cannot be interpreted as an integer",
     "output_type": "error",
     "traceback": [
      "\u001b[1;31m---------------------------------------------------------------------------\u001b[0m",
      "\u001b[1;31mTypeError\u001b[0m                                 Traceback (most recent call last)",
      "Cell \u001b[1;32mIn[59], line 1\u001b[0m\n\u001b[1;32m----> 1\u001b[0m \u001b[43mprint_many_times\u001b[49m\u001b[43m(\u001b[49m\u001b[38;5;241;43m5\u001b[39;49m\u001b[43m,\u001b[49m\u001b[38;5;124;43m\"\u001b[39;49m\u001b[38;5;124;43mskillsoft\u001b[39;49m\u001b[38;5;124;43m\"\u001b[39;49m\u001b[43m)\u001b[49m\n",
      "Cell \u001b[1;32mIn[58], line 2\u001b[0m, in \u001b[0;36mprint_many_times\u001b[1;34m(string, times)\u001b[0m\n\u001b[0;32m      1\u001b[0m \u001b[38;5;28;01mdef\u001b[39;00m \u001b[38;5;21mprint_many_times\u001b[39m(string,times):\n\u001b[1;32m----> 2\u001b[0m     \u001b[38;5;28;01mfor\u001b[39;00m i \u001b[38;5;129;01min\u001b[39;00m \u001b[38;5;28;43mrange\u001b[39;49m\u001b[43m(\u001b[49m\u001b[43mtimes\u001b[49m\u001b[43m)\u001b[49m:\n\u001b[0;32m      3\u001b[0m         \u001b[38;5;28mprint\u001b[39m (string)\n",
      "\u001b[1;31mTypeError\u001b[0m: 'str' object cannot be interpreted as an integer"
     ]
    }
   ],
   "source": [
    "print_many_times(5,\"skillsoft\")"
   ]
  },
  {
   "cell_type": "code",
   "execution_count": 60,
   "id": "ca2a53ae",
   "metadata": {},
   "outputs": [],
   "source": [
    "def print_higher_number(a,b):\n",
    "    if a>b:\n",
    "        print(\"Higher number is:\", a)\n",
    "    else:\n",
    "        print(\"higher number is\" , b)"
   ]
  },
  {
   "cell_type": "code",
   "execution_count": 63,
   "id": "0cf3b9d4",
   "metadata": {},
   "outputs": [
    {
     "name": "stdout",
     "output_type": "stream",
     "text": [
      "Higher number is: 10\n"
     ]
    }
   ],
   "source": [
    "print_higher_number(10,5)"
   ]
  },
  {
   "cell_type": "code",
   "execution_count": 62,
   "id": "2819cb1e",
   "metadata": {},
   "outputs": [
    {
     "name": "stdout",
     "output_type": "stream",
     "text": [
      "Higher number is: 6\n"
     ]
    }
   ],
   "source": [
    "print_higher_number(6,1)"
   ]
  },
  {
   "cell_type": "code",
   "execution_count": 65,
   "id": "33b0d361",
   "metadata": {},
   "outputs": [],
   "source": [
    "def print_higher_number_witherror(a,b):\n",
    "    if a>b:\n",
    "        print(\"Higher number is:\", a)\n",
    "    else:\n",
    "        print(\"higher number is\" , b)\n",
    "        result=b + \"a\""
   ]
  },
  {
   "cell_type": "code",
   "execution_count": 67,
   "id": "67ff41f3",
   "metadata": {},
   "outputs": [
    {
     "name": "stdout",
     "output_type": "stream",
     "text": [
      "Higher number is: 10\n"
     ]
    }
   ],
   "source": [
    "print_higher_number_witherror(10,9)"
   ]
  },
  {
   "cell_type": "code",
   "execution_count": 68,
   "id": "5154ae40",
   "metadata": {},
   "outputs": [
    {
     "name": "stdout",
     "output_type": "stream",
     "text": [
      "higher number is 10\n"
     ]
    },
    {
     "ename": "TypeError",
     "evalue": "unsupported operand type(s) for +: 'int' and 'str'",
     "output_type": "error",
     "traceback": [
      "\u001b[1;31m---------------------------------------------------------------------------\u001b[0m",
      "\u001b[1;31mTypeError\u001b[0m                                 Traceback (most recent call last)",
      "Cell \u001b[1;32mIn[68], line 1\u001b[0m\n\u001b[1;32m----> 1\u001b[0m \u001b[43mprint_higher_number_witherror\u001b[49m\u001b[43m(\u001b[49m\u001b[38;5;241;43m3\u001b[39;49m\u001b[43m,\u001b[49m\u001b[38;5;241;43m10\u001b[39;49m\u001b[43m)\u001b[49m\n",
      "Cell \u001b[1;32mIn[65], line 6\u001b[0m, in \u001b[0;36mprint_higher_number_witherror\u001b[1;34m(a, b)\u001b[0m\n\u001b[0;32m      4\u001b[0m \u001b[38;5;28;01melse\u001b[39;00m:\n\u001b[0;32m      5\u001b[0m     \u001b[38;5;28mprint\u001b[39m(\u001b[38;5;124m\"\u001b[39m\u001b[38;5;124mhigher number is\u001b[39m\u001b[38;5;124m\"\u001b[39m , b)\n\u001b[1;32m----> 6\u001b[0m     result\u001b[38;5;241m=\u001b[39m\u001b[43mb\u001b[49m\u001b[43m \u001b[49m\u001b[38;5;241;43m+\u001b[39;49m\u001b[43m \u001b[49m\u001b[38;5;124;43m\"\u001b[39;49m\u001b[38;5;124;43ma\u001b[39;49m\u001b[38;5;124;43m\"\u001b[39;49m\n",
      "\u001b[1;31mTypeError\u001b[0m: unsupported operand type(s) for +: 'int' and 'str'"
     ]
    }
   ],
   "source": [
    "print_higher_number_witherror(3,10)"
   ]
  },
  {
   "cell_type": "code",
   "execution_count": 74,
   "id": "ff75ee5e",
   "metadata": {},
   "outputs": [],
   "source": [
    "def multiply(num_1,num_2,num_3):\n",
    "    print(\"Multiplication results: \",num_1*num_2*num_3)"
   ]
  },
  {
   "cell_type": "code",
   "execution_count": 75,
   "id": "09ef70fb",
   "metadata": {},
   "outputs": [
    {
     "name": "stdout",
     "output_type": "stream",
     "text": [
      "Multiplication results:  9.2\n"
     ]
    }
   ],
   "source": [
    "multiply(1, 2.3, 4)"
   ]
  },
  {
   "cell_type": "code",
   "execution_count": 77,
   "id": "53ed8b21",
   "metadata": {},
   "outputs": [
    {
     "ename": "TypeError",
     "evalue": "multiply() missing 1 required positional argument: 'num_3'",
     "output_type": "error",
     "traceback": [
      "\u001b[1;31m---------------------------------------------------------------------------\u001b[0m",
      "\u001b[1;31mTypeError\u001b[0m                                 Traceback (most recent call last)",
      "Cell \u001b[1;32mIn[77], line 1\u001b[0m\n\u001b[1;32m----> 1\u001b[0m \u001b[43mmultiply\u001b[49m\u001b[43m(\u001b[49m\u001b[38;5;241;43m1\u001b[39;49m\u001b[43m,\u001b[49m\u001b[38;5;241;43m2.3\u001b[39;49m\u001b[43m)\u001b[49m\n",
      "\u001b[1;31mTypeError\u001b[0m: multiply() missing 1 required positional argument: 'num_3'"
     ]
    }
   ],
   "source": [
    "multiply(1,2.3)"
   ]
  },
  {
   "cell_type": "code",
   "execution_count": 87,
   "id": "a2115d11",
   "metadata": {},
   "outputs": [],
   "source": [
    "def length(some_list):\n",
    "    count=0\n",
    "    for element in some_list:\n",
    "        count += 1\n",
    "        print(\"The length of the list is,\", count)"
   ]
  },
  {
   "cell_type": "code",
   "execution_count": 88,
   "id": "4f40799b",
   "metadata": {
    "scrolled": true
   },
   "outputs": [
    {
     "name": "stdout",
     "output_type": "stream",
     "text": [
      "The length of the list is, 1\n",
      "The length of the list is, 2\n"
     ]
    }
   ],
   "source": [
    "length(\"34\")"
   ]
  },
  {
   "cell_type": "code",
   "execution_count": 89,
   "id": "b2770c91",
   "metadata": {
    "scrolled": true
   },
   "outputs": [
    {
     "name": "stdout",
     "output_type": "stream",
     "text": [
      "The length of the list is, 1\n",
      "The length of the list is, 2\n",
      "The length of the list is, 3\n",
      "The length of the list is, 4\n",
      "The length of the list is, 5\n",
      "The length of the list is, 6\n",
      "The length of the list is, 7\n"
     ]
    }
   ],
   "source": [
    "num_list=(2,4,5,1,8,5,9)\n",
    "length(num_list)"
   ]
  },
  {
   "cell_type": "code",
   "execution_count": 92,
   "id": "2664f18d",
   "metadata": {},
   "outputs": [
    {
     "name": "stdout",
     "output_type": "stream",
     "text": [
      "The length of the list is, 1\n",
      "The length of the list is, 2\n",
      "The length of the list is, 3\n"
     ]
    }
   ],
   "source": [
    "cars_list=(\"Toyota\",\"Honda\",\"Mercedes\")\n",
    "length(cars_list)"
   ]
  },
  {
   "cell_type": "code",
   "execution_count": 93,
   "id": "0f35feb8",
   "metadata": {},
   "outputs": [
    {
     "data": {
      "text/plain": [
       "3"
      ]
     },
     "execution_count": 93,
     "metadata": {},
     "output_type": "execute_result"
    }
   ],
   "source": [
    "num_cars=len(cars_list)\n",
    "num_cars"
   ]
  },
  {
   "cell_type": "code",
   "execution_count": 96,
   "id": "293cb5de",
   "metadata": {},
   "outputs": [
    {
     "name": "stdout",
     "output_type": "stream",
     "text": [
      "The length of the list is, 1\n",
      "The length of the list is, 2\n",
      "The length of the list is, 3\n"
     ]
    }
   ],
   "source": [
    "num_cars=length(cars_list)\n"
   ]
  },
  {
   "cell_type": "code",
   "execution_count": 97,
   "id": "7fb284c3",
   "metadata": {},
   "outputs": [],
   "source": [
    "num_cars"
   ]
  },
  {
   "cell_type": "code",
   "execution_count": 98,
   "id": "ea452eae",
   "metadata": {},
   "outputs": [
    {
     "name": "stdout",
     "output_type": "stream",
     "text": [
      "None\n"
     ]
    }
   ],
   "source": [
    "print(num_cars)"
   ]
  },
  {
   "cell_type": "code",
   "execution_count": null,
   "id": "4ffbfd5a",
   "metadata": {},
   "outputs": [],
   "source": []
  }
 ],
 "metadata": {
  "kernelspec": {
   "display_name": "Python 3 (ipykernel)",
   "language": "python",
   "name": "python3"
  },
  "language_info": {
   "codemirror_mode": {
    "name": "ipython",
    "version": 3
   },
   "file_extension": ".py",
   "mimetype": "text/x-python",
   "name": "python",
   "nbconvert_exporter": "python",
   "pygments_lexer": "ipython3",
   "version": "3.10.9"
  }
 },
 "nbformat": 4,
 "nbformat_minor": 5
}
